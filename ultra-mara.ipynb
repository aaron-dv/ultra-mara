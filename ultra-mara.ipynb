{
 "cells": [
  {
   "metadata": {},
   "cell_type": "markdown",
   "source": "# Ultra Marathon EDA",
   "id": "f21587a1c3af59d5"
  },
  {
   "metadata": {},
   "cell_type": "markdown",
   "source": "## Imports",
   "id": "9a9ecbf93560f282"
  },
  {
   "metadata": {
    "ExecuteTime": {
     "end_time": "2025-01-14T14:38:42.239947Z",
     "start_time": "2025-01-14T14:38:41.304221Z"
    }
   },
   "cell_type": "code",
   "source": [
    "import pandas as pd\n",
    "import seaborn as sns"
   ],
   "id": "f18fcc0f64eec660",
   "outputs": [],
   "execution_count": 1
  },
  {
   "metadata": {},
   "cell_type": "markdown",
   "source": "## 1. Data Sourcing",
   "id": "55d019e985ddd21c"
  },
  {
   "metadata": {
    "ExecuteTime": {
     "end_time": "2025-01-14T14:38:58.780597Z",
     "start_time": "2025-01-14T14:38:42.246331Z"
    }
   },
   "cell_type": "code",
   "source": "df = pd.read_csv('./data/TWO_CENTURIES_OF_UM_RACES.csv', low_memory=False)",
   "id": "bb2a9b0f29b4905",
   "outputs": [],
   "execution_count": 2
  },
  {
   "metadata": {
    "ExecuteTime": {
     "end_time": "2025-01-14T14:38:58.905435Z",
     "start_time": "2025-01-14T14:38:58.899434Z"
    }
   },
   "cell_type": "code",
   "source": "df.shape",
   "id": "ceefdf3e1438728f",
   "outputs": [
    {
     "data": {
      "text/plain": [
       "(7461195, 13)"
      ]
     },
     "execution_count": 3,
     "metadata": {},
     "output_type": "execute_result"
    }
   ],
   "execution_count": 3
  },
  {
   "metadata": {
    "ExecuteTime": {
     "end_time": "2025-01-14T14:38:59.027455Z",
     "start_time": "2025-01-14T14:38:59.010727Z"
    }
   },
   "cell_type": "code",
   "source": "df.head()",
   "id": "272284d50bf1397f",
   "outputs": [
    {
     "data": {
      "text/plain": [
       "   Year of event Event dates           Event name Event distance/length  \\\n",
       "0           2018  06.01.2018  Selva Costera (CHI)                  50km   \n",
       "1           2018  06.01.2018  Selva Costera (CHI)                  50km   \n",
       "2           2018  06.01.2018  Selva Costera (CHI)                  50km   \n",
       "3           2018  06.01.2018  Selva Costera (CHI)                  50km   \n",
       "4           2018  06.01.2018  Selva Costera (CHI)                  50km   \n",
       "\n",
       "   Event number of finishers Athlete performance        Athlete club  \\\n",
       "0                         22           4:51:39 h               Tnfrc   \n",
       "1                         22           5:15:45 h  Roberto Echeverría   \n",
       "2                         22           5:16:44 h   Puro Trail Osorno   \n",
       "3                         22           5:34:13 h            Columbia   \n",
       "4                         22           5:54:14 h      Baguales Trail   \n",
       "\n",
       "  Athlete country  Athlete year of birth Athlete gender Athlete age category  \\\n",
       "0             CHI                 1978.0              M                  M35   \n",
       "1             CHI                 1981.0              M                  M35   \n",
       "2             CHI                 1987.0              M                  M23   \n",
       "3             ARG                 1976.0              M                  M40   \n",
       "4             CHI                 1992.0              M                  M23   \n",
       "\n",
       "  Athlete average speed  Athlete ID  \n",
       "0                10.286           0  \n",
       "1                 9.501           1  \n",
       "2                 9.472           2  \n",
       "3                 8.976           3  \n",
       "4                 8.469           4  "
      ],
      "text/html": [
       "<div>\n",
       "<style scoped>\n",
       "    .dataframe tbody tr th:only-of-type {\n",
       "        vertical-align: middle;\n",
       "    }\n",
       "\n",
       "    .dataframe tbody tr th {\n",
       "        vertical-align: top;\n",
       "    }\n",
       "\n",
       "    .dataframe thead th {\n",
       "        text-align: right;\n",
       "    }\n",
       "</style>\n",
       "<table border=\"1\" class=\"dataframe\">\n",
       "  <thead>\n",
       "    <tr style=\"text-align: right;\">\n",
       "      <th></th>\n",
       "      <th>Year of event</th>\n",
       "      <th>Event dates</th>\n",
       "      <th>Event name</th>\n",
       "      <th>Event distance/length</th>\n",
       "      <th>Event number of finishers</th>\n",
       "      <th>Athlete performance</th>\n",
       "      <th>Athlete club</th>\n",
       "      <th>Athlete country</th>\n",
       "      <th>Athlete year of birth</th>\n",
       "      <th>Athlete gender</th>\n",
       "      <th>Athlete age category</th>\n",
       "      <th>Athlete average speed</th>\n",
       "      <th>Athlete ID</th>\n",
       "    </tr>\n",
       "  </thead>\n",
       "  <tbody>\n",
       "    <tr>\n",
       "      <th>0</th>\n",
       "      <td>2018</td>\n",
       "      <td>06.01.2018</td>\n",
       "      <td>Selva Costera (CHI)</td>\n",
       "      <td>50km</td>\n",
       "      <td>22</td>\n",
       "      <td>4:51:39 h</td>\n",
       "      <td>Tnfrc</td>\n",
       "      <td>CHI</td>\n",
       "      <td>1978.0</td>\n",
       "      <td>M</td>\n",
       "      <td>M35</td>\n",
       "      <td>10.286</td>\n",
       "      <td>0</td>\n",
       "    </tr>\n",
       "    <tr>\n",
       "      <th>1</th>\n",
       "      <td>2018</td>\n",
       "      <td>06.01.2018</td>\n",
       "      <td>Selva Costera (CHI)</td>\n",
       "      <td>50km</td>\n",
       "      <td>22</td>\n",
       "      <td>5:15:45 h</td>\n",
       "      <td>Roberto Echeverría</td>\n",
       "      <td>CHI</td>\n",
       "      <td>1981.0</td>\n",
       "      <td>M</td>\n",
       "      <td>M35</td>\n",
       "      <td>9.501</td>\n",
       "      <td>1</td>\n",
       "    </tr>\n",
       "    <tr>\n",
       "      <th>2</th>\n",
       "      <td>2018</td>\n",
       "      <td>06.01.2018</td>\n",
       "      <td>Selva Costera (CHI)</td>\n",
       "      <td>50km</td>\n",
       "      <td>22</td>\n",
       "      <td>5:16:44 h</td>\n",
       "      <td>Puro Trail Osorno</td>\n",
       "      <td>CHI</td>\n",
       "      <td>1987.0</td>\n",
       "      <td>M</td>\n",
       "      <td>M23</td>\n",
       "      <td>9.472</td>\n",
       "      <td>2</td>\n",
       "    </tr>\n",
       "    <tr>\n",
       "      <th>3</th>\n",
       "      <td>2018</td>\n",
       "      <td>06.01.2018</td>\n",
       "      <td>Selva Costera (CHI)</td>\n",
       "      <td>50km</td>\n",
       "      <td>22</td>\n",
       "      <td>5:34:13 h</td>\n",
       "      <td>Columbia</td>\n",
       "      <td>ARG</td>\n",
       "      <td>1976.0</td>\n",
       "      <td>M</td>\n",
       "      <td>M40</td>\n",
       "      <td>8.976</td>\n",
       "      <td>3</td>\n",
       "    </tr>\n",
       "    <tr>\n",
       "      <th>4</th>\n",
       "      <td>2018</td>\n",
       "      <td>06.01.2018</td>\n",
       "      <td>Selva Costera (CHI)</td>\n",
       "      <td>50km</td>\n",
       "      <td>22</td>\n",
       "      <td>5:54:14 h</td>\n",
       "      <td>Baguales Trail</td>\n",
       "      <td>CHI</td>\n",
       "      <td>1992.0</td>\n",
       "      <td>M</td>\n",
       "      <td>M23</td>\n",
       "      <td>8.469</td>\n",
       "      <td>4</td>\n",
       "    </tr>\n",
       "  </tbody>\n",
       "</table>\n",
       "</div>"
      ]
     },
     "execution_count": 4,
     "metadata": {},
     "output_type": "execute_result"
    }
   ],
   "execution_count": 4
  },
  {
   "metadata": {
    "ExecuteTime": {
     "end_time": "2025-01-14T14:38:59.115279Z",
     "start_time": "2025-01-14T14:38:59.108527Z"
    }
   },
   "cell_type": "code",
   "source": "df.dtypes",
   "id": "45970e24fc777c02",
   "outputs": [
    {
     "data": {
      "text/plain": [
       "Year of event                  int64\n",
       "Event dates                   object\n",
       "Event name                    object\n",
       "Event distance/length         object\n",
       "Event number of finishers      int64\n",
       "Athlete performance           object\n",
       "Athlete club                  object\n",
       "Athlete country               object\n",
       "Athlete year of birth        float64\n",
       "Athlete gender                object\n",
       "Athlete age category          object\n",
       "Athlete average speed         object\n",
       "Athlete ID                     int64\n",
       "dtype: object"
      ]
     },
     "execution_count": 5,
     "metadata": {},
     "output_type": "execute_result"
    }
   ],
   "execution_count": 5
  },
  {
   "metadata": {},
   "cell_type": "markdown",
   "source": "## 2. Data Preparation & Cleaning",
   "id": "51f31d2368b86e6e"
  },
  {
   "metadata": {},
   "cell_type": "markdown",
   "source": "### 2.1. Limiting the dataframe to only show events of the top 2 most frequent event distances, held in South Africa, from the year 2000 onwards",
   "id": "21cb79db80964b70"
  },
  {
   "metadata": {
    "ExecuteTime": {
     "end_time": "2025-01-14T14:39:00.804144Z",
     "start_time": "2025-01-14T14:38:59.185058Z"
    }
   },
   "cell_type": "code",
   "source": "df2 = df[(df['Event name'].str.endswith('(RSA)'))]\n",
   "id": "80a60e803e3cd9e7",
   "outputs": [],
   "execution_count": 6
  },
  {
   "metadata": {
    "ExecuteTime": {
     "end_time": "2025-01-14T14:39:00.929408Z",
     "start_time": "2025-01-14T14:39:00.874621Z"
    }
   },
   "cell_type": "code",
   "source": "top_two_events = df2['Event distance/length'].value_counts().nlargest(2).index.tolist()",
   "id": "c5c1f6c961a00f0",
   "outputs": [],
   "execution_count": 7
  },
  {
   "metadata": {
    "ExecuteTime": {
     "end_time": "2025-01-14T14:39:01.154417Z",
     "start_time": "2025-01-14T14:39:01.053962Z"
    }
   },
   "cell_type": "code",
   "source": "df2 = df2[(df2['Event distance/length'].isin(top_two_events)) & (df2['Year of event'] >= 2000)]",
   "id": "7b289df0799966e8",
   "outputs": [],
   "execution_count": 8
  },
  {
   "metadata": {
    "ExecuteTime": {
     "end_time": "2025-01-14T14:39:01.281344Z",
     "start_time": "2025-01-14T14:39:01.273978Z"
    }
   },
   "cell_type": "code",
   "source": "df2.shape",
   "id": "3cef9c641b7974f6",
   "outputs": [
    {
     "data": {
      "text/plain": [
       "(277136, 13)"
      ]
     },
     "execution_count": 9,
     "metadata": {},
     "output_type": "execute_result"
    }
   ],
   "execution_count": 9
  },
  {
   "metadata": {
    "ExecuteTime": {
     "end_time": "2025-01-14T14:39:01.348335Z",
     "start_time": "2025-01-14T14:39:01.335368Z"
    }
   },
   "cell_type": "code",
   "source": "df2.head()",
   "id": "31ca5d33a6f38459",
   "outputs": [
    {
     "data": {
      "text/plain": [
       "        Year of event Event dates                 Event name  \\\n",
       "171454           2018  31.03.2018  Two Oceans Marathon (RSA)   \n",
       "171455           2018  31.03.2018  Two Oceans Marathon (RSA)   \n",
       "171456           2018  31.03.2018  Two Oceans Marathon (RSA)   \n",
       "171457           2018  31.03.2018  Two Oceans Marathon (RSA)   \n",
       "171458           2018  31.03.2018  Two Oceans Marathon (RSA)   \n",
       "\n",
       "       Event distance/length  Event number of finishers Athlete performance  \\\n",
       "171454                  56km                       9200           3:09:22 h   \n",
       "171455                  56km                       9200           3:10:32 h   \n",
       "171456                  56km                       9200           3:11:13 h   \n",
       "171457                  56km                       9200           3:11:58 h   \n",
       "171458                  56km                       9200           3:12:09 h   \n",
       "\n",
       "                     Athlete club Athlete country  Athlete year of birth  \\\n",
       "171454   Nedbank RC International             KEN                 1993.0   \n",
       "171455   Nedbank RC International             LES                 1982.0   \n",
       "171456      Entsika Athletic Club             RSA                 1981.0   \n",
       "171457   Nedbank RC International             KEN                 1980.0   \n",
       "171458  Arthur Ford Athletic Club             RSA                 1983.0   \n",
       "\n",
       "       Athlete gender Athlete age category Athlete average speed  Athlete ID  \n",
       "171454              M                  M23                17.743      133335  \n",
       "171455              M                  M35                17.635      133336  \n",
       "171456              M                  M35                17.572      133337  \n",
       "171457              M                  M35                17.503      133338  \n",
       "171458              M                  M23                17.486      133339  "
      ],
      "text/html": [
       "<div>\n",
       "<style scoped>\n",
       "    .dataframe tbody tr th:only-of-type {\n",
       "        vertical-align: middle;\n",
       "    }\n",
       "\n",
       "    .dataframe tbody tr th {\n",
       "        vertical-align: top;\n",
       "    }\n",
       "\n",
       "    .dataframe thead th {\n",
       "        text-align: right;\n",
       "    }\n",
       "</style>\n",
       "<table border=\"1\" class=\"dataframe\">\n",
       "  <thead>\n",
       "    <tr style=\"text-align: right;\">\n",
       "      <th></th>\n",
       "      <th>Year of event</th>\n",
       "      <th>Event dates</th>\n",
       "      <th>Event name</th>\n",
       "      <th>Event distance/length</th>\n",
       "      <th>Event number of finishers</th>\n",
       "      <th>Athlete performance</th>\n",
       "      <th>Athlete club</th>\n",
       "      <th>Athlete country</th>\n",
       "      <th>Athlete year of birth</th>\n",
       "      <th>Athlete gender</th>\n",
       "      <th>Athlete age category</th>\n",
       "      <th>Athlete average speed</th>\n",
       "      <th>Athlete ID</th>\n",
       "    </tr>\n",
       "  </thead>\n",
       "  <tbody>\n",
       "    <tr>\n",
       "      <th>171454</th>\n",
       "      <td>2018</td>\n",
       "      <td>31.03.2018</td>\n",
       "      <td>Two Oceans Marathon (RSA)</td>\n",
       "      <td>56km</td>\n",
       "      <td>9200</td>\n",
       "      <td>3:09:22 h</td>\n",
       "      <td>Nedbank RC International</td>\n",
       "      <td>KEN</td>\n",
       "      <td>1993.0</td>\n",
       "      <td>M</td>\n",
       "      <td>M23</td>\n",
       "      <td>17.743</td>\n",
       "      <td>133335</td>\n",
       "    </tr>\n",
       "    <tr>\n",
       "      <th>171455</th>\n",
       "      <td>2018</td>\n",
       "      <td>31.03.2018</td>\n",
       "      <td>Two Oceans Marathon (RSA)</td>\n",
       "      <td>56km</td>\n",
       "      <td>9200</td>\n",
       "      <td>3:10:32 h</td>\n",
       "      <td>Nedbank RC International</td>\n",
       "      <td>LES</td>\n",
       "      <td>1982.0</td>\n",
       "      <td>M</td>\n",
       "      <td>M35</td>\n",
       "      <td>17.635</td>\n",
       "      <td>133336</td>\n",
       "    </tr>\n",
       "    <tr>\n",
       "      <th>171456</th>\n",
       "      <td>2018</td>\n",
       "      <td>31.03.2018</td>\n",
       "      <td>Two Oceans Marathon (RSA)</td>\n",
       "      <td>56km</td>\n",
       "      <td>9200</td>\n",
       "      <td>3:11:13 h</td>\n",
       "      <td>Entsika Athletic Club</td>\n",
       "      <td>RSA</td>\n",
       "      <td>1981.0</td>\n",
       "      <td>M</td>\n",
       "      <td>M35</td>\n",
       "      <td>17.572</td>\n",
       "      <td>133337</td>\n",
       "    </tr>\n",
       "    <tr>\n",
       "      <th>171457</th>\n",
       "      <td>2018</td>\n",
       "      <td>31.03.2018</td>\n",
       "      <td>Two Oceans Marathon (RSA)</td>\n",
       "      <td>56km</td>\n",
       "      <td>9200</td>\n",
       "      <td>3:11:58 h</td>\n",
       "      <td>Nedbank RC International</td>\n",
       "      <td>KEN</td>\n",
       "      <td>1980.0</td>\n",
       "      <td>M</td>\n",
       "      <td>M35</td>\n",
       "      <td>17.503</td>\n",
       "      <td>133338</td>\n",
       "    </tr>\n",
       "    <tr>\n",
       "      <th>171458</th>\n",
       "      <td>2018</td>\n",
       "      <td>31.03.2018</td>\n",
       "      <td>Two Oceans Marathon (RSA)</td>\n",
       "      <td>56km</td>\n",
       "      <td>9200</td>\n",
       "      <td>3:12:09 h</td>\n",
       "      <td>Arthur Ford Athletic Club</td>\n",
       "      <td>RSA</td>\n",
       "      <td>1983.0</td>\n",
       "      <td>M</td>\n",
       "      <td>M23</td>\n",
       "      <td>17.486</td>\n",
       "      <td>133339</td>\n",
       "    </tr>\n",
       "  </tbody>\n",
       "</table>\n",
       "</div>"
      ]
     },
     "execution_count": 10,
     "metadata": {},
     "output_type": "execute_result"
    }
   ],
   "execution_count": 10
  },
  {
   "metadata": {},
   "cell_type": "markdown",
   "source": "### 2.2. Remove redundant '(RSA)' substring value from values in the 'Event name' column",
   "id": "1c18070c6def13d4"
  },
  {
   "metadata": {
    "ExecuteTime": {
     "end_time": "2025-01-14T14:39:01.988752Z",
     "start_time": "2025-01-14T14:39:01.438651Z"
    }
   },
   "cell_type": "code",
   "source": "df2.loc[:, 'Event name'] = df2['Event name'].str.split('(').str.get(0)",
   "id": "2e8ecaf3fd4c6c0c",
   "outputs": [],
   "execution_count": 11
  },
  {
   "metadata": {
    "ExecuteTime": {
     "end_time": "2025-01-14T14:39:02.051284Z",
     "start_time": "2025-01-14T14:39:02.036858Z"
    }
   },
   "cell_type": "code",
   "source": "df2.head()",
   "id": "cfd41aaae81b1be5",
   "outputs": [
    {
     "data": {
      "text/plain": [
       "        Year of event Event dates            Event name Event distance/length  \\\n",
       "171454           2018  31.03.2018  Two Oceans Marathon                   56km   \n",
       "171455           2018  31.03.2018  Two Oceans Marathon                   56km   \n",
       "171456           2018  31.03.2018  Two Oceans Marathon                   56km   \n",
       "171457           2018  31.03.2018  Two Oceans Marathon                   56km   \n",
       "171458           2018  31.03.2018  Two Oceans Marathon                   56km   \n",
       "\n",
       "        Event number of finishers Athlete performance  \\\n",
       "171454                       9200           3:09:22 h   \n",
       "171455                       9200           3:10:32 h   \n",
       "171456                       9200           3:11:13 h   \n",
       "171457                       9200           3:11:58 h   \n",
       "171458                       9200           3:12:09 h   \n",
       "\n",
       "                     Athlete club Athlete country  Athlete year of birth  \\\n",
       "171454   Nedbank RC International             KEN                 1993.0   \n",
       "171455   Nedbank RC International             LES                 1982.0   \n",
       "171456      Entsika Athletic Club             RSA                 1981.0   \n",
       "171457   Nedbank RC International             KEN                 1980.0   \n",
       "171458  Arthur Ford Athletic Club             RSA                 1983.0   \n",
       "\n",
       "       Athlete gender Athlete age category Athlete average speed  Athlete ID  \n",
       "171454              M                  M23                17.743      133335  \n",
       "171455              M                  M35                17.635      133336  \n",
       "171456              M                  M35                17.572      133337  \n",
       "171457              M                  M35                17.503      133338  \n",
       "171458              M                  M23                17.486      133339  "
      ],
      "text/html": [
       "<div>\n",
       "<style scoped>\n",
       "    .dataframe tbody tr th:only-of-type {\n",
       "        vertical-align: middle;\n",
       "    }\n",
       "\n",
       "    .dataframe tbody tr th {\n",
       "        vertical-align: top;\n",
       "    }\n",
       "\n",
       "    .dataframe thead th {\n",
       "        text-align: right;\n",
       "    }\n",
       "</style>\n",
       "<table border=\"1\" class=\"dataframe\">\n",
       "  <thead>\n",
       "    <tr style=\"text-align: right;\">\n",
       "      <th></th>\n",
       "      <th>Year of event</th>\n",
       "      <th>Event dates</th>\n",
       "      <th>Event name</th>\n",
       "      <th>Event distance/length</th>\n",
       "      <th>Event number of finishers</th>\n",
       "      <th>Athlete performance</th>\n",
       "      <th>Athlete club</th>\n",
       "      <th>Athlete country</th>\n",
       "      <th>Athlete year of birth</th>\n",
       "      <th>Athlete gender</th>\n",
       "      <th>Athlete age category</th>\n",
       "      <th>Athlete average speed</th>\n",
       "      <th>Athlete ID</th>\n",
       "    </tr>\n",
       "  </thead>\n",
       "  <tbody>\n",
       "    <tr>\n",
       "      <th>171454</th>\n",
       "      <td>2018</td>\n",
       "      <td>31.03.2018</td>\n",
       "      <td>Two Oceans Marathon</td>\n",
       "      <td>56km</td>\n",
       "      <td>9200</td>\n",
       "      <td>3:09:22 h</td>\n",
       "      <td>Nedbank RC International</td>\n",
       "      <td>KEN</td>\n",
       "      <td>1993.0</td>\n",
       "      <td>M</td>\n",
       "      <td>M23</td>\n",
       "      <td>17.743</td>\n",
       "      <td>133335</td>\n",
       "    </tr>\n",
       "    <tr>\n",
       "      <th>171455</th>\n",
       "      <td>2018</td>\n",
       "      <td>31.03.2018</td>\n",
       "      <td>Two Oceans Marathon</td>\n",
       "      <td>56km</td>\n",
       "      <td>9200</td>\n",
       "      <td>3:10:32 h</td>\n",
       "      <td>Nedbank RC International</td>\n",
       "      <td>LES</td>\n",
       "      <td>1982.0</td>\n",
       "      <td>M</td>\n",
       "      <td>M35</td>\n",
       "      <td>17.635</td>\n",
       "      <td>133336</td>\n",
       "    </tr>\n",
       "    <tr>\n",
       "      <th>171456</th>\n",
       "      <td>2018</td>\n",
       "      <td>31.03.2018</td>\n",
       "      <td>Two Oceans Marathon</td>\n",
       "      <td>56km</td>\n",
       "      <td>9200</td>\n",
       "      <td>3:11:13 h</td>\n",
       "      <td>Entsika Athletic Club</td>\n",
       "      <td>RSA</td>\n",
       "      <td>1981.0</td>\n",
       "      <td>M</td>\n",
       "      <td>M35</td>\n",
       "      <td>17.572</td>\n",
       "      <td>133337</td>\n",
       "    </tr>\n",
       "    <tr>\n",
       "      <th>171457</th>\n",
       "      <td>2018</td>\n",
       "      <td>31.03.2018</td>\n",
       "      <td>Two Oceans Marathon</td>\n",
       "      <td>56km</td>\n",
       "      <td>9200</td>\n",
       "      <td>3:11:58 h</td>\n",
       "      <td>Nedbank RC International</td>\n",
       "      <td>KEN</td>\n",
       "      <td>1980.0</td>\n",
       "      <td>M</td>\n",
       "      <td>M35</td>\n",
       "      <td>17.503</td>\n",
       "      <td>133338</td>\n",
       "    </tr>\n",
       "    <tr>\n",
       "      <th>171458</th>\n",
       "      <td>2018</td>\n",
       "      <td>31.03.2018</td>\n",
       "      <td>Two Oceans Marathon</td>\n",
       "      <td>56km</td>\n",
       "      <td>9200</td>\n",
       "      <td>3:12:09 h</td>\n",
       "      <td>Arthur Ford Athletic Club</td>\n",
       "      <td>RSA</td>\n",
       "      <td>1983.0</td>\n",
       "      <td>M</td>\n",
       "      <td>M23</td>\n",
       "      <td>17.486</td>\n",
       "      <td>133339</td>\n",
       "    </tr>\n",
       "  </tbody>\n",
       "</table>\n",
       "</div>"
      ]
     },
     "execution_count": 12,
     "metadata": {},
     "output_type": "execute_result"
    }
   ],
   "execution_count": 12
  },
  {
   "metadata": {},
   "cell_type": "markdown",
   "source": "### 2.3. Create athlete age column from 'Athlete year of birth' and 'Year of event'",
   "id": "27f9c48d6812a0ba"
  },
  {
   "metadata": {
    "ExecuteTime": {
     "end_time": "2025-01-14T14:39:02.156172Z",
     "start_time": "2025-01-14T14:39:02.150096Z"
    }
   },
   "cell_type": "code",
   "source": "df2.loc[:, 'Athlete age'] = df2['Year of event'] - df2['Athlete year of birth']",
   "id": "fd507dfa4fd126ff",
   "outputs": [],
   "execution_count": 13
  },
  {
   "metadata": {},
   "cell_type": "markdown",
   "source": "### 2.4. Remove 'h' from 'Athlete performance' column",
   "id": "bf9d9ecf15821e26"
  },
  {
   "metadata": {
    "ExecuteTime": {
     "end_time": "2025-01-14T14:39:02.637482Z",
     "start_time": "2025-01-14T14:39:02.250812Z"
    }
   },
   "cell_type": "code",
   "source": "df2.loc[:, 'Athlete performance'] = df2['Athlete performance'].str.split(' ').str.get(0)",
   "id": "ae1ae3d3ce06bda2",
   "outputs": [],
   "execution_count": 14
  },
  {
   "metadata": {
    "ExecuteTime": {
     "end_time": "2025-01-14T14:39:02.695457Z",
     "start_time": "2025-01-14T14:39:02.683852Z"
    }
   },
   "cell_type": "code",
   "source": "df2.head()",
   "id": "98d3c3ee9f05f09e",
   "outputs": [
    {
     "data": {
      "text/plain": [
       "        Year of event Event dates            Event name Event distance/length  \\\n",
       "171454           2018  31.03.2018  Two Oceans Marathon                   56km   \n",
       "171455           2018  31.03.2018  Two Oceans Marathon                   56km   \n",
       "171456           2018  31.03.2018  Two Oceans Marathon                   56km   \n",
       "171457           2018  31.03.2018  Two Oceans Marathon                   56km   \n",
       "171458           2018  31.03.2018  Two Oceans Marathon                   56km   \n",
       "\n",
       "        Event number of finishers Athlete performance  \\\n",
       "171454                       9200             3:09:22   \n",
       "171455                       9200             3:10:32   \n",
       "171456                       9200             3:11:13   \n",
       "171457                       9200             3:11:58   \n",
       "171458                       9200             3:12:09   \n",
       "\n",
       "                     Athlete club Athlete country  Athlete year of birth  \\\n",
       "171454   Nedbank RC International             KEN                 1993.0   \n",
       "171455   Nedbank RC International             LES                 1982.0   \n",
       "171456      Entsika Athletic Club             RSA                 1981.0   \n",
       "171457   Nedbank RC International             KEN                 1980.0   \n",
       "171458  Arthur Ford Athletic Club             RSA                 1983.0   \n",
       "\n",
       "       Athlete gender Athlete age category Athlete average speed  Athlete ID  \\\n",
       "171454              M                  M23                17.743      133335   \n",
       "171455              M                  M35                17.635      133336   \n",
       "171456              M                  M35                17.572      133337   \n",
       "171457              M                  M35                17.503      133338   \n",
       "171458              M                  M23                17.486      133339   \n",
       "\n",
       "        Athlete age  \n",
       "171454         25.0  \n",
       "171455         36.0  \n",
       "171456         37.0  \n",
       "171457         38.0  \n",
       "171458         35.0  "
      ],
      "text/html": [
       "<div>\n",
       "<style scoped>\n",
       "    .dataframe tbody tr th:only-of-type {\n",
       "        vertical-align: middle;\n",
       "    }\n",
       "\n",
       "    .dataframe tbody tr th {\n",
       "        vertical-align: top;\n",
       "    }\n",
       "\n",
       "    .dataframe thead th {\n",
       "        text-align: right;\n",
       "    }\n",
       "</style>\n",
       "<table border=\"1\" class=\"dataframe\">\n",
       "  <thead>\n",
       "    <tr style=\"text-align: right;\">\n",
       "      <th></th>\n",
       "      <th>Year of event</th>\n",
       "      <th>Event dates</th>\n",
       "      <th>Event name</th>\n",
       "      <th>Event distance/length</th>\n",
       "      <th>Event number of finishers</th>\n",
       "      <th>Athlete performance</th>\n",
       "      <th>Athlete club</th>\n",
       "      <th>Athlete country</th>\n",
       "      <th>Athlete year of birth</th>\n",
       "      <th>Athlete gender</th>\n",
       "      <th>Athlete age category</th>\n",
       "      <th>Athlete average speed</th>\n",
       "      <th>Athlete ID</th>\n",
       "      <th>Athlete age</th>\n",
       "    </tr>\n",
       "  </thead>\n",
       "  <tbody>\n",
       "    <tr>\n",
       "      <th>171454</th>\n",
       "      <td>2018</td>\n",
       "      <td>31.03.2018</td>\n",
       "      <td>Two Oceans Marathon</td>\n",
       "      <td>56km</td>\n",
       "      <td>9200</td>\n",
       "      <td>3:09:22</td>\n",
       "      <td>Nedbank RC International</td>\n",
       "      <td>KEN</td>\n",
       "      <td>1993.0</td>\n",
       "      <td>M</td>\n",
       "      <td>M23</td>\n",
       "      <td>17.743</td>\n",
       "      <td>133335</td>\n",
       "      <td>25.0</td>\n",
       "    </tr>\n",
       "    <tr>\n",
       "      <th>171455</th>\n",
       "      <td>2018</td>\n",
       "      <td>31.03.2018</td>\n",
       "      <td>Two Oceans Marathon</td>\n",
       "      <td>56km</td>\n",
       "      <td>9200</td>\n",
       "      <td>3:10:32</td>\n",
       "      <td>Nedbank RC International</td>\n",
       "      <td>LES</td>\n",
       "      <td>1982.0</td>\n",
       "      <td>M</td>\n",
       "      <td>M35</td>\n",
       "      <td>17.635</td>\n",
       "      <td>133336</td>\n",
       "      <td>36.0</td>\n",
       "    </tr>\n",
       "    <tr>\n",
       "      <th>171456</th>\n",
       "      <td>2018</td>\n",
       "      <td>31.03.2018</td>\n",
       "      <td>Two Oceans Marathon</td>\n",
       "      <td>56km</td>\n",
       "      <td>9200</td>\n",
       "      <td>3:11:13</td>\n",
       "      <td>Entsika Athletic Club</td>\n",
       "      <td>RSA</td>\n",
       "      <td>1981.0</td>\n",
       "      <td>M</td>\n",
       "      <td>M35</td>\n",
       "      <td>17.572</td>\n",
       "      <td>133337</td>\n",
       "      <td>37.0</td>\n",
       "    </tr>\n",
       "    <tr>\n",
       "      <th>171457</th>\n",
       "      <td>2018</td>\n",
       "      <td>31.03.2018</td>\n",
       "      <td>Two Oceans Marathon</td>\n",
       "      <td>56km</td>\n",
       "      <td>9200</td>\n",
       "      <td>3:11:58</td>\n",
       "      <td>Nedbank RC International</td>\n",
       "      <td>KEN</td>\n",
       "      <td>1980.0</td>\n",
       "      <td>M</td>\n",
       "      <td>M35</td>\n",
       "      <td>17.503</td>\n",
       "      <td>133338</td>\n",
       "      <td>38.0</td>\n",
       "    </tr>\n",
       "    <tr>\n",
       "      <th>171458</th>\n",
       "      <td>2018</td>\n",
       "      <td>31.03.2018</td>\n",
       "      <td>Two Oceans Marathon</td>\n",
       "      <td>56km</td>\n",
       "      <td>9200</td>\n",
       "      <td>3:12:09</td>\n",
       "      <td>Arthur Ford Athletic Club</td>\n",
       "      <td>RSA</td>\n",
       "      <td>1983.0</td>\n",
       "      <td>M</td>\n",
       "      <td>M23</td>\n",
       "      <td>17.486</td>\n",
       "      <td>133339</td>\n",
       "      <td>35.0</td>\n",
       "    </tr>\n",
       "  </tbody>\n",
       "</table>\n",
       "</div>"
      ]
     },
     "execution_count": 15,
     "metadata": {},
     "output_type": "execute_result"
    }
   ],
   "execution_count": 15
  },
  {
   "metadata": {},
   "cell_type": "markdown",
   "source": "### 2.5. Drop unneeded columns",
   "id": "4c677f392319e5dd"
  },
  {
   "metadata": {
    "ExecuteTime": {
     "end_time": "2025-01-14T14:39:02.764630Z",
     "start_time": "2025-01-14T14:39:02.731215Z"
    }
   },
   "cell_type": "code",
   "source": "df2 = df2.drop(['Athlete year of birth', 'Athlete age category', 'Athlete club'], axis=1)",
   "id": "bc8e9e169b3f0518",
   "outputs": [],
   "execution_count": 16
  },
  {
   "metadata": {
    "ExecuteTime": {
     "end_time": "2025-01-14T14:39:02.883066Z",
     "start_time": "2025-01-14T14:39:02.871289Z"
    }
   },
   "cell_type": "code",
   "source": "df2.head()",
   "id": "bcb7fe9c4dda8c38",
   "outputs": [
    {
     "data": {
      "text/plain": [
       "        Year of event Event dates            Event name Event distance/length  \\\n",
       "171454           2018  31.03.2018  Two Oceans Marathon                   56km   \n",
       "171455           2018  31.03.2018  Two Oceans Marathon                   56km   \n",
       "171456           2018  31.03.2018  Two Oceans Marathon                   56km   \n",
       "171457           2018  31.03.2018  Two Oceans Marathon                   56km   \n",
       "171458           2018  31.03.2018  Two Oceans Marathon                   56km   \n",
       "\n",
       "        Event number of finishers Athlete performance Athlete country  \\\n",
       "171454                       9200             3:09:22             KEN   \n",
       "171455                       9200             3:10:32             LES   \n",
       "171456                       9200             3:11:13             RSA   \n",
       "171457                       9200             3:11:58             KEN   \n",
       "171458                       9200             3:12:09             RSA   \n",
       "\n",
       "       Athlete gender Athlete average speed  Athlete ID  Athlete age  \n",
       "171454              M                17.743      133335         25.0  \n",
       "171455              M                17.635      133336         36.0  \n",
       "171456              M                17.572      133337         37.0  \n",
       "171457              M                17.503      133338         38.0  \n",
       "171458              M                17.486      133339         35.0  "
      ],
      "text/html": [
       "<div>\n",
       "<style scoped>\n",
       "    .dataframe tbody tr th:only-of-type {\n",
       "        vertical-align: middle;\n",
       "    }\n",
       "\n",
       "    .dataframe tbody tr th {\n",
       "        vertical-align: top;\n",
       "    }\n",
       "\n",
       "    .dataframe thead th {\n",
       "        text-align: right;\n",
       "    }\n",
       "</style>\n",
       "<table border=\"1\" class=\"dataframe\">\n",
       "  <thead>\n",
       "    <tr style=\"text-align: right;\">\n",
       "      <th></th>\n",
       "      <th>Year of event</th>\n",
       "      <th>Event dates</th>\n",
       "      <th>Event name</th>\n",
       "      <th>Event distance/length</th>\n",
       "      <th>Event number of finishers</th>\n",
       "      <th>Athlete performance</th>\n",
       "      <th>Athlete country</th>\n",
       "      <th>Athlete gender</th>\n",
       "      <th>Athlete average speed</th>\n",
       "      <th>Athlete ID</th>\n",
       "      <th>Athlete age</th>\n",
       "    </tr>\n",
       "  </thead>\n",
       "  <tbody>\n",
       "    <tr>\n",
       "      <th>171454</th>\n",
       "      <td>2018</td>\n",
       "      <td>31.03.2018</td>\n",
       "      <td>Two Oceans Marathon</td>\n",
       "      <td>56km</td>\n",
       "      <td>9200</td>\n",
       "      <td>3:09:22</td>\n",
       "      <td>KEN</td>\n",
       "      <td>M</td>\n",
       "      <td>17.743</td>\n",
       "      <td>133335</td>\n",
       "      <td>25.0</td>\n",
       "    </tr>\n",
       "    <tr>\n",
       "      <th>171455</th>\n",
       "      <td>2018</td>\n",
       "      <td>31.03.2018</td>\n",
       "      <td>Two Oceans Marathon</td>\n",
       "      <td>56km</td>\n",
       "      <td>9200</td>\n",
       "      <td>3:10:32</td>\n",
       "      <td>LES</td>\n",
       "      <td>M</td>\n",
       "      <td>17.635</td>\n",
       "      <td>133336</td>\n",
       "      <td>36.0</td>\n",
       "    </tr>\n",
       "    <tr>\n",
       "      <th>171456</th>\n",
       "      <td>2018</td>\n",
       "      <td>31.03.2018</td>\n",
       "      <td>Two Oceans Marathon</td>\n",
       "      <td>56km</td>\n",
       "      <td>9200</td>\n",
       "      <td>3:11:13</td>\n",
       "      <td>RSA</td>\n",
       "      <td>M</td>\n",
       "      <td>17.572</td>\n",
       "      <td>133337</td>\n",
       "      <td>37.0</td>\n",
       "    </tr>\n",
       "    <tr>\n",
       "      <th>171457</th>\n",
       "      <td>2018</td>\n",
       "      <td>31.03.2018</td>\n",
       "      <td>Two Oceans Marathon</td>\n",
       "      <td>56km</td>\n",
       "      <td>9200</td>\n",
       "      <td>3:11:58</td>\n",
       "      <td>KEN</td>\n",
       "      <td>M</td>\n",
       "      <td>17.503</td>\n",
       "      <td>133338</td>\n",
       "      <td>38.0</td>\n",
       "    </tr>\n",
       "    <tr>\n",
       "      <th>171458</th>\n",
       "      <td>2018</td>\n",
       "      <td>31.03.2018</td>\n",
       "      <td>Two Oceans Marathon</td>\n",
       "      <td>56km</td>\n",
       "      <td>9200</td>\n",
       "      <td>3:12:09</td>\n",
       "      <td>RSA</td>\n",
       "      <td>M</td>\n",
       "      <td>17.486</td>\n",
       "      <td>133339</td>\n",
       "      <td>35.0</td>\n",
       "    </tr>\n",
       "  </tbody>\n",
       "</table>\n",
       "</div>"
      ]
     },
     "execution_count": 17,
     "metadata": {},
     "output_type": "execute_result"
    }
   ],
   "execution_count": 17
  },
  {
   "metadata": {},
   "cell_type": "markdown",
   "source": "### 2.6. Remove null values",
   "id": "c4be971c39e953d4"
  },
  {
   "metadata": {
    "ExecuteTime": {
     "end_time": "2025-01-14T14:39:03.204142Z",
     "start_time": "2025-01-14T14:39:03.075864Z"
    }
   },
   "cell_type": "code",
   "source": "df2.isna().sum()",
   "id": "776c862103763353",
   "outputs": [
    {
     "data": {
      "text/plain": [
       "Year of event                  0\n",
       "Event dates                    0\n",
       "Event name                     0\n",
       "Event distance/length          0\n",
       "Event number of finishers      0\n",
       "Athlete performance            0\n",
       "Athlete country                0\n",
       "Athlete gender                 0\n",
       "Athlete average speed          0\n",
       "Athlete ID                     0\n",
       "Athlete age                  139\n",
       "dtype: int64"
      ]
     },
     "execution_count": 18,
     "metadata": {},
     "output_type": "execute_result"
    }
   ],
   "execution_count": 18
  },
  {
   "metadata": {
    "ExecuteTime": {
     "end_time": "2025-01-14T14:39:03.446545Z",
     "start_time": "2025-01-14T14:39:03.432702Z"
    }
   },
   "cell_type": "code",
   "source": "df2[df2['Athlete age'].isna()]",
   "id": "bb6dec7a101bd566",
   "outputs": [
    {
     "data": {
      "text/plain": [
       "         Year of event Event dates                            Event name  \\\n",
       "1892253           2019  20.04.2019                  Two Oceans Marathon    \n",
       "1892597           2019  20.04.2019                  Two Oceans Marathon    \n",
       "1892682           2019  20.04.2019                  Two Oceans Marathon    \n",
       "1892906           2019  20.04.2019                  Two Oceans Marathon    \n",
       "1893272           2019  20.04.2019                  Two Oceans Marathon    \n",
       "...                ...         ...                                   ...   \n",
       "5158069           2011  29.05.2011           Comrades Marathon - Up Run    \n",
       "5163978           2011  29.05.2011           Comrades Marathon - Up Run    \n",
       "5372199           2012  31.03.2012  Xstrata Longtom Ultra Marathon 56km    \n",
       "5587122           2013  30.03.2013                  Two Oceans Marathon    \n",
       "6454321           2015  31.05.2015           Comrades Marathon - Up Run    \n",
       "\n",
       "        Event distance/length  Event number of finishers Athlete performance  \\\n",
       "1892253                  56km                      12096             4:17:50   \n",
       "1892597                  56km                      12096             4:40:27   \n",
       "1892682                  56km                      12096             4:43:30   \n",
       "1892906                  56km                      12096             4:51:37   \n",
       "1893272                  56km                      12096             4:58:24   \n",
       "...                       ...                        ...                 ...   \n",
       "5158069                  87km                      11080            10:00:01   \n",
       "5163978                  87km                      11080            11:47:10   \n",
       "5372199                  56km                         24             4:22:56   \n",
       "5587122                  56km                       8246             5:29:16   \n",
       "6454321                  87km                      13008             9:41:40   \n",
       "\n",
       "        Athlete country Athlete gender Athlete average speed  Athlete ID  \\\n",
       "1892253             RSA              M                13.032      665848   \n",
       "1892597             GER              M                11.981      665896   \n",
       "1892682             RSA              M                11.852      665912   \n",
       "1892906             BRA              M                11.522      665948   \n",
       "1893272             RSA              M                 11.26       54937   \n",
       "...                 ...            ...                   ...         ...   \n",
       "5158069             XXX              M                   8.7        4033   \n",
       "5163978             RSA              M                 7.382     1101151   \n",
       "5372199             RSA              M                12.779     1353558   \n",
       "5587122             GER              F                10.204     1362292   \n",
       "6454321             GER              M                 8.974      181036   \n",
       "\n",
       "         Athlete age  \n",
       "1892253          NaN  \n",
       "1892597          NaN  \n",
       "1892682          NaN  \n",
       "1892906          NaN  \n",
       "1893272          NaN  \n",
       "...              ...  \n",
       "5158069          NaN  \n",
       "5163978          NaN  \n",
       "5372199          NaN  \n",
       "5587122          NaN  \n",
       "6454321          NaN  \n",
       "\n",
       "[139 rows x 11 columns]"
      ],
      "text/html": [
       "<div>\n",
       "<style scoped>\n",
       "    .dataframe tbody tr th:only-of-type {\n",
       "        vertical-align: middle;\n",
       "    }\n",
       "\n",
       "    .dataframe tbody tr th {\n",
       "        vertical-align: top;\n",
       "    }\n",
       "\n",
       "    .dataframe thead th {\n",
       "        text-align: right;\n",
       "    }\n",
       "</style>\n",
       "<table border=\"1\" class=\"dataframe\">\n",
       "  <thead>\n",
       "    <tr style=\"text-align: right;\">\n",
       "      <th></th>\n",
       "      <th>Year of event</th>\n",
       "      <th>Event dates</th>\n",
       "      <th>Event name</th>\n",
       "      <th>Event distance/length</th>\n",
       "      <th>Event number of finishers</th>\n",
       "      <th>Athlete performance</th>\n",
       "      <th>Athlete country</th>\n",
       "      <th>Athlete gender</th>\n",
       "      <th>Athlete average speed</th>\n",
       "      <th>Athlete ID</th>\n",
       "      <th>Athlete age</th>\n",
       "    </tr>\n",
       "  </thead>\n",
       "  <tbody>\n",
       "    <tr>\n",
       "      <th>1892253</th>\n",
       "      <td>2019</td>\n",
       "      <td>20.04.2019</td>\n",
       "      <td>Two Oceans Marathon</td>\n",
       "      <td>56km</td>\n",
       "      <td>12096</td>\n",
       "      <td>4:17:50</td>\n",
       "      <td>RSA</td>\n",
       "      <td>M</td>\n",
       "      <td>13.032</td>\n",
       "      <td>665848</td>\n",
       "      <td>NaN</td>\n",
       "    </tr>\n",
       "    <tr>\n",
       "      <th>1892597</th>\n",
       "      <td>2019</td>\n",
       "      <td>20.04.2019</td>\n",
       "      <td>Two Oceans Marathon</td>\n",
       "      <td>56km</td>\n",
       "      <td>12096</td>\n",
       "      <td>4:40:27</td>\n",
       "      <td>GER</td>\n",
       "      <td>M</td>\n",
       "      <td>11.981</td>\n",
       "      <td>665896</td>\n",
       "      <td>NaN</td>\n",
       "    </tr>\n",
       "    <tr>\n",
       "      <th>1892682</th>\n",
       "      <td>2019</td>\n",
       "      <td>20.04.2019</td>\n",
       "      <td>Two Oceans Marathon</td>\n",
       "      <td>56km</td>\n",
       "      <td>12096</td>\n",
       "      <td>4:43:30</td>\n",
       "      <td>RSA</td>\n",
       "      <td>M</td>\n",
       "      <td>11.852</td>\n",
       "      <td>665912</td>\n",
       "      <td>NaN</td>\n",
       "    </tr>\n",
       "    <tr>\n",
       "      <th>1892906</th>\n",
       "      <td>2019</td>\n",
       "      <td>20.04.2019</td>\n",
       "      <td>Two Oceans Marathon</td>\n",
       "      <td>56km</td>\n",
       "      <td>12096</td>\n",
       "      <td>4:51:37</td>\n",
       "      <td>BRA</td>\n",
       "      <td>M</td>\n",
       "      <td>11.522</td>\n",
       "      <td>665948</td>\n",
       "      <td>NaN</td>\n",
       "    </tr>\n",
       "    <tr>\n",
       "      <th>1893272</th>\n",
       "      <td>2019</td>\n",
       "      <td>20.04.2019</td>\n",
       "      <td>Two Oceans Marathon</td>\n",
       "      <td>56km</td>\n",
       "      <td>12096</td>\n",
       "      <td>4:58:24</td>\n",
       "      <td>RSA</td>\n",
       "      <td>M</td>\n",
       "      <td>11.26</td>\n",
       "      <td>54937</td>\n",
       "      <td>NaN</td>\n",
       "    </tr>\n",
       "    <tr>\n",
       "      <th>...</th>\n",
       "      <td>...</td>\n",
       "      <td>...</td>\n",
       "      <td>...</td>\n",
       "      <td>...</td>\n",
       "      <td>...</td>\n",
       "      <td>...</td>\n",
       "      <td>...</td>\n",
       "      <td>...</td>\n",
       "      <td>...</td>\n",
       "      <td>...</td>\n",
       "      <td>...</td>\n",
       "    </tr>\n",
       "    <tr>\n",
       "      <th>5158069</th>\n",
       "      <td>2011</td>\n",
       "      <td>29.05.2011</td>\n",
       "      <td>Comrades Marathon - Up Run</td>\n",
       "      <td>87km</td>\n",
       "      <td>11080</td>\n",
       "      <td>10:00:01</td>\n",
       "      <td>XXX</td>\n",
       "      <td>M</td>\n",
       "      <td>8.7</td>\n",
       "      <td>4033</td>\n",
       "      <td>NaN</td>\n",
       "    </tr>\n",
       "    <tr>\n",
       "      <th>5163978</th>\n",
       "      <td>2011</td>\n",
       "      <td>29.05.2011</td>\n",
       "      <td>Comrades Marathon - Up Run</td>\n",
       "      <td>87km</td>\n",
       "      <td>11080</td>\n",
       "      <td>11:47:10</td>\n",
       "      <td>RSA</td>\n",
       "      <td>M</td>\n",
       "      <td>7.382</td>\n",
       "      <td>1101151</td>\n",
       "      <td>NaN</td>\n",
       "    </tr>\n",
       "    <tr>\n",
       "      <th>5372199</th>\n",
       "      <td>2012</td>\n",
       "      <td>31.03.2012</td>\n",
       "      <td>Xstrata Longtom Ultra Marathon 56km</td>\n",
       "      <td>56km</td>\n",
       "      <td>24</td>\n",
       "      <td>4:22:56</td>\n",
       "      <td>RSA</td>\n",
       "      <td>M</td>\n",
       "      <td>12.779</td>\n",
       "      <td>1353558</td>\n",
       "      <td>NaN</td>\n",
       "    </tr>\n",
       "    <tr>\n",
       "      <th>5587122</th>\n",
       "      <td>2013</td>\n",
       "      <td>30.03.2013</td>\n",
       "      <td>Two Oceans Marathon</td>\n",
       "      <td>56km</td>\n",
       "      <td>8246</td>\n",
       "      <td>5:29:16</td>\n",
       "      <td>GER</td>\n",
       "      <td>F</td>\n",
       "      <td>10.204</td>\n",
       "      <td>1362292</td>\n",
       "      <td>NaN</td>\n",
       "    </tr>\n",
       "    <tr>\n",
       "      <th>6454321</th>\n",
       "      <td>2015</td>\n",
       "      <td>31.05.2015</td>\n",
       "      <td>Comrades Marathon - Up Run</td>\n",
       "      <td>87km</td>\n",
       "      <td>13008</td>\n",
       "      <td>9:41:40</td>\n",
       "      <td>GER</td>\n",
       "      <td>M</td>\n",
       "      <td>8.974</td>\n",
       "      <td>181036</td>\n",
       "      <td>NaN</td>\n",
       "    </tr>\n",
       "  </tbody>\n",
       "</table>\n",
       "<p>139 rows × 11 columns</p>\n",
       "</div>"
      ]
     },
     "execution_count": 19,
     "metadata": {},
     "output_type": "execute_result"
    }
   ],
   "execution_count": 19
  },
  {
   "metadata": {
    "ExecuteTime": {
     "end_time": "2025-01-14T14:39:03.859963Z",
     "start_time": "2025-01-14T14:39:03.711378Z"
    }
   },
   "cell_type": "code",
   "source": "df2 = df2.dropna()",
   "id": "c0fd31fa2bf5bce0",
   "outputs": [],
   "execution_count": 20
  },
  {
   "metadata": {
    "ExecuteTime": {
     "end_time": "2025-01-14T14:39:04.052108Z",
     "start_time": "2025-01-14T14:39:04.044799Z"
    }
   },
   "cell_type": "code",
   "source": "df2.shape",
   "id": "9e1696c92314819f",
   "outputs": [
    {
     "data": {
      "text/plain": [
       "(276997, 11)"
      ]
     },
     "execution_count": 21,
     "metadata": {},
     "output_type": "execute_result"
    }
   ],
   "execution_count": 21
  },
  {
   "metadata": {},
   "cell_type": "markdown",
   "source": "### 2.7. Check for duplicates",
   "id": "3e0da41fcfefc06d"
  },
  {
   "metadata": {
    "ExecuteTime": {
     "end_time": "2025-01-14T14:39:04.653678Z",
     "start_time": "2025-01-14T14:39:04.341824Z"
    }
   },
   "cell_type": "code",
   "source": "df2[df2.duplicated()]",
   "id": "4a34b333e7744733",
   "outputs": [
    {
     "data": {
      "text/plain": [
       "         Year of event Event dates                   Event name  \\\n",
       "3848692           2000  16.06.2000  Comrades Marathon - Up Run    \n",
       "4184416           2004  10.04.2004         Two Oceans Marathon    \n",
       "4362780           2006  16.06.2006  Comrades Marathon - Up Run    \n",
       "5355896           2012  07.04.2012         Two Oceans Marathon    \n",
       "\n",
       "        Event distance/length  Event number of finishers Athlete performance  \\\n",
       "3848692                  87km                      20027            10:32:11   \n",
       "4184416                  56km                       8689             5:27:36   \n",
       "4362780                  87km                       9847             7:52:18   \n",
       "5355896                  56km                       7700             5:44:25   \n",
       "\n",
       "        Athlete country Athlete gender Athlete average speed  Athlete ID  \\\n",
       "3848692             RSA              F                 8.257     1057950   \n",
       "4184416             RSA              M                10.256       16051   \n",
       "4362780             RSA              M                11.052     1205006   \n",
       "5355896             RSA              F                 9.756     1116238   \n",
       "\n",
       "         Athlete age  \n",
       "3848692         43.0  \n",
       "4184416         43.0  \n",
       "4362780         25.0  \n",
       "5355896         33.0  "
      ],
      "text/html": [
       "<div>\n",
       "<style scoped>\n",
       "    .dataframe tbody tr th:only-of-type {\n",
       "        vertical-align: middle;\n",
       "    }\n",
       "\n",
       "    .dataframe tbody tr th {\n",
       "        vertical-align: top;\n",
       "    }\n",
       "\n",
       "    .dataframe thead th {\n",
       "        text-align: right;\n",
       "    }\n",
       "</style>\n",
       "<table border=\"1\" class=\"dataframe\">\n",
       "  <thead>\n",
       "    <tr style=\"text-align: right;\">\n",
       "      <th></th>\n",
       "      <th>Year of event</th>\n",
       "      <th>Event dates</th>\n",
       "      <th>Event name</th>\n",
       "      <th>Event distance/length</th>\n",
       "      <th>Event number of finishers</th>\n",
       "      <th>Athlete performance</th>\n",
       "      <th>Athlete country</th>\n",
       "      <th>Athlete gender</th>\n",
       "      <th>Athlete average speed</th>\n",
       "      <th>Athlete ID</th>\n",
       "      <th>Athlete age</th>\n",
       "    </tr>\n",
       "  </thead>\n",
       "  <tbody>\n",
       "    <tr>\n",
       "      <th>3848692</th>\n",
       "      <td>2000</td>\n",
       "      <td>16.06.2000</td>\n",
       "      <td>Comrades Marathon - Up Run</td>\n",
       "      <td>87km</td>\n",
       "      <td>20027</td>\n",
       "      <td>10:32:11</td>\n",
       "      <td>RSA</td>\n",
       "      <td>F</td>\n",
       "      <td>8.257</td>\n",
       "      <td>1057950</td>\n",
       "      <td>43.0</td>\n",
       "    </tr>\n",
       "    <tr>\n",
       "      <th>4184416</th>\n",
       "      <td>2004</td>\n",
       "      <td>10.04.2004</td>\n",
       "      <td>Two Oceans Marathon</td>\n",
       "      <td>56km</td>\n",
       "      <td>8689</td>\n",
       "      <td>5:27:36</td>\n",
       "      <td>RSA</td>\n",
       "      <td>M</td>\n",
       "      <td>10.256</td>\n",
       "      <td>16051</td>\n",
       "      <td>43.0</td>\n",
       "    </tr>\n",
       "    <tr>\n",
       "      <th>4362780</th>\n",
       "      <td>2006</td>\n",
       "      <td>16.06.2006</td>\n",
       "      <td>Comrades Marathon - Up Run</td>\n",
       "      <td>87km</td>\n",
       "      <td>9847</td>\n",
       "      <td>7:52:18</td>\n",
       "      <td>RSA</td>\n",
       "      <td>M</td>\n",
       "      <td>11.052</td>\n",
       "      <td>1205006</td>\n",
       "      <td>25.0</td>\n",
       "    </tr>\n",
       "    <tr>\n",
       "      <th>5355896</th>\n",
       "      <td>2012</td>\n",
       "      <td>07.04.2012</td>\n",
       "      <td>Two Oceans Marathon</td>\n",
       "      <td>56km</td>\n",
       "      <td>7700</td>\n",
       "      <td>5:44:25</td>\n",
       "      <td>RSA</td>\n",
       "      <td>F</td>\n",
       "      <td>9.756</td>\n",
       "      <td>1116238</td>\n",
       "      <td>33.0</td>\n",
       "    </tr>\n",
       "  </tbody>\n",
       "</table>\n",
       "</div>"
      ]
     },
     "execution_count": 22,
     "metadata": {},
     "output_type": "execute_result"
    }
   ],
   "execution_count": 22
  },
  {
   "metadata": {
    "ExecuteTime": {
     "end_time": "2025-01-14T14:39:05.172688Z",
     "start_time": "2025-01-14T14:39:04.902420Z"
    }
   },
   "cell_type": "code",
   "source": "df2 = df2.drop_duplicates()",
   "id": "5f4d76f118409a05",
   "outputs": [],
   "execution_count": 23
  },
  {
   "metadata": {
    "ExecuteTime": {
     "end_time": "2025-01-14T14:39:05.230019Z",
     "start_time": "2025-01-14T14:39:05.219242Z"
    }
   },
   "cell_type": "code",
   "source": "df2.shape",
   "id": "49e6470d2e591b76",
   "outputs": [
    {
     "data": {
      "text/plain": [
       "(276993, 11)"
      ]
     },
     "execution_count": 24,
     "metadata": {},
     "output_type": "execute_result"
    }
   ],
   "execution_count": 24
  },
  {
   "metadata": {},
   "cell_type": "markdown",
   "source": "### 2.8. Reset index",
   "id": "f7e1bc566d1d6a5f"
  },
  {
   "metadata": {
    "ExecuteTime": {
     "end_time": "2025-01-14T14:39:05.333963Z",
     "start_time": "2025-01-14T14:39:05.329640Z"
    }
   },
   "cell_type": "code",
   "source": "df2.reset_index(drop=True, inplace=True)",
   "id": "40fb1859e6552d24",
   "outputs": [],
   "execution_count": 25
  },
  {
   "metadata": {},
   "cell_type": "markdown",
   "source": "### 2.9. Fix types",
   "id": "3832f5b48b505b13"
  },
  {
   "metadata": {
    "ExecuteTime": {
     "end_time": "2025-01-14T14:39:05.422117Z",
     "start_time": "2025-01-14T14:39:05.415722Z"
    }
   },
   "cell_type": "code",
   "source": "df2.dtypes",
   "id": "e19bacb7a1388819",
   "outputs": [
    {
     "data": {
      "text/plain": [
       "Year of event                  int64\n",
       "Event dates                   object\n",
       "Event name                    object\n",
       "Event distance/length         object\n",
       "Event number of finishers      int64\n",
       "Athlete performance           object\n",
       "Athlete country               object\n",
       "Athlete gender                object\n",
       "Athlete average speed         object\n",
       "Athlete ID                     int64\n",
       "Athlete age                  float64\n",
       "dtype: object"
      ]
     },
     "execution_count": 26,
     "metadata": {},
     "output_type": "execute_result"
    }
   ],
   "execution_count": 26
  },
  {
   "metadata": {
    "ExecuteTime": {
     "end_time": "2025-01-14T14:39:06.011150Z",
     "start_time": "2025-01-14T14:39:05.612705Z"
    }
   },
   "cell_type": "code",
   "source": [
    "df2['Athlete gender'] = df2['Athlete gender'].astype('category')\n",
    "df2['Athlete performance'] = pd.to_timedelta(df2['Athlete performance'])\n",
    "df2['Athlete average speed'] = df2['Athlete average speed'].astype(float)\n",
    "df2['Athlete age'] = df2['Athlete age'].astype(int)"
   ],
   "id": "7c787fef0e6f62a2",
   "outputs": [],
   "execution_count": 27
  },
  {
   "metadata": {
    "ExecuteTime": {
     "end_time": "2025-01-14T14:39:06.071501Z",
     "start_time": "2025-01-14T14:39:06.065026Z"
    }
   },
   "cell_type": "code",
   "source": "df2.dtypes",
   "id": "32eadec43686224b",
   "outputs": [
    {
     "data": {
      "text/plain": [
       "Year of event                          int64\n",
       "Event dates                           object\n",
       "Event name                            object\n",
       "Event distance/length                 object\n",
       "Event number of finishers              int64\n",
       "Athlete performance          timedelta64[ns]\n",
       "Athlete country                       object\n",
       "Athlete gender                      category\n",
       "Athlete average speed                float64\n",
       "Athlete ID                             int64\n",
       "Athlete age                            int64\n",
       "dtype: object"
      ]
     },
     "execution_count": 28,
     "metadata": {},
     "output_type": "execute_result"
    }
   ],
   "execution_count": 28
  },
  {
   "metadata": {},
   "cell_type": "markdown",
   "source": "### 2.10. Rename & reorder columns",
   "id": "84025675049dc94a"
  },
  {
   "metadata": {
    "ExecuteTime": {
     "end_time": "2025-01-14T14:39:06.226697Z",
     "start_time": "2025-01-14T14:39:06.154440Z"
    }
   },
   "cell_type": "code",
   "source": [
    "df2 = df2.rename(columns = {\n",
    "    'Year of event': 'year',\n",
    "    'Event dates': 'race_day',\n",
    "    'Event name': 'race_name',\n",
    "    'Event distance/length': 'race_length',\n",
    "    'Event number of finishers': 'finishers',\n",
    "    'Athlete performance': 'athlete_performance',\n",
    "    'Athlete country': 'athlete_country',\n",
    "    'Athlete gender': 'athlete_gender',\n",
    "    'Athlete average speed': 'athlete_avg_speed',\n",
    "    'Athlete ID': 'athlete_id',\n",
    "    'Athlete age': 'athlete_age',\n",
    "})"
   ],
   "id": "4af4e6e666aaaa03",
   "outputs": [],
   "execution_count": 29
  },
  {
   "metadata": {
    "ExecuteTime": {
     "end_time": "2025-01-14T14:39:06.354687Z",
     "start_time": "2025-01-14T14:39:06.330837Z"
    }
   },
   "cell_type": "code",
   "source": "df2.head()",
   "id": "52845bd3ac7f5fed",
   "outputs": [
    {
     "data": {
      "text/plain": [
       "   year    race_day             race_name race_length  finishers  \\\n",
       "0  2018  31.03.2018  Two Oceans Marathon         56km       9200   \n",
       "1  2018  31.03.2018  Two Oceans Marathon         56km       9200   \n",
       "2  2018  31.03.2018  Two Oceans Marathon         56km       9200   \n",
       "3  2018  31.03.2018  Two Oceans Marathon         56km       9200   \n",
       "4  2018  31.03.2018  Two Oceans Marathon         56km       9200   \n",
       "\n",
       "  athlete_performance athlete_country athlete_gender  athlete_avg_speed  \\\n",
       "0     0 days 03:09:22             KEN              M             17.743   \n",
       "1     0 days 03:10:32             LES              M             17.635   \n",
       "2     0 days 03:11:13             RSA              M             17.572   \n",
       "3     0 days 03:11:58             KEN              M             17.503   \n",
       "4     0 days 03:12:09             RSA              M             17.486   \n",
       "\n",
       "   athlete_id  athlete_age  \n",
       "0      133335           25  \n",
       "1      133336           36  \n",
       "2      133337           37  \n",
       "3      133338           38  \n",
       "4      133339           35  "
      ],
      "text/html": [
       "<div>\n",
       "<style scoped>\n",
       "    .dataframe tbody tr th:only-of-type {\n",
       "        vertical-align: middle;\n",
       "    }\n",
       "\n",
       "    .dataframe tbody tr th {\n",
       "        vertical-align: top;\n",
       "    }\n",
       "\n",
       "    .dataframe thead th {\n",
       "        text-align: right;\n",
       "    }\n",
       "</style>\n",
       "<table border=\"1\" class=\"dataframe\">\n",
       "  <thead>\n",
       "    <tr style=\"text-align: right;\">\n",
       "      <th></th>\n",
       "      <th>year</th>\n",
       "      <th>race_day</th>\n",
       "      <th>race_name</th>\n",
       "      <th>race_length</th>\n",
       "      <th>finishers</th>\n",
       "      <th>athlete_performance</th>\n",
       "      <th>athlete_country</th>\n",
       "      <th>athlete_gender</th>\n",
       "      <th>athlete_avg_speed</th>\n",
       "      <th>athlete_id</th>\n",
       "      <th>athlete_age</th>\n",
       "    </tr>\n",
       "  </thead>\n",
       "  <tbody>\n",
       "    <tr>\n",
       "      <th>0</th>\n",
       "      <td>2018</td>\n",
       "      <td>31.03.2018</td>\n",
       "      <td>Two Oceans Marathon</td>\n",
       "      <td>56km</td>\n",
       "      <td>9200</td>\n",
       "      <td>0 days 03:09:22</td>\n",
       "      <td>KEN</td>\n",
       "      <td>M</td>\n",
       "      <td>17.743</td>\n",
       "      <td>133335</td>\n",
       "      <td>25</td>\n",
       "    </tr>\n",
       "    <tr>\n",
       "      <th>1</th>\n",
       "      <td>2018</td>\n",
       "      <td>31.03.2018</td>\n",
       "      <td>Two Oceans Marathon</td>\n",
       "      <td>56km</td>\n",
       "      <td>9200</td>\n",
       "      <td>0 days 03:10:32</td>\n",
       "      <td>LES</td>\n",
       "      <td>M</td>\n",
       "      <td>17.635</td>\n",
       "      <td>133336</td>\n",
       "      <td>36</td>\n",
       "    </tr>\n",
       "    <tr>\n",
       "      <th>2</th>\n",
       "      <td>2018</td>\n",
       "      <td>31.03.2018</td>\n",
       "      <td>Two Oceans Marathon</td>\n",
       "      <td>56km</td>\n",
       "      <td>9200</td>\n",
       "      <td>0 days 03:11:13</td>\n",
       "      <td>RSA</td>\n",
       "      <td>M</td>\n",
       "      <td>17.572</td>\n",
       "      <td>133337</td>\n",
       "      <td>37</td>\n",
       "    </tr>\n",
       "    <tr>\n",
       "      <th>3</th>\n",
       "      <td>2018</td>\n",
       "      <td>31.03.2018</td>\n",
       "      <td>Two Oceans Marathon</td>\n",
       "      <td>56km</td>\n",
       "      <td>9200</td>\n",
       "      <td>0 days 03:11:58</td>\n",
       "      <td>KEN</td>\n",
       "      <td>M</td>\n",
       "      <td>17.503</td>\n",
       "      <td>133338</td>\n",
       "      <td>38</td>\n",
       "    </tr>\n",
       "    <tr>\n",
       "      <th>4</th>\n",
       "      <td>2018</td>\n",
       "      <td>31.03.2018</td>\n",
       "      <td>Two Oceans Marathon</td>\n",
       "      <td>56km</td>\n",
       "      <td>9200</td>\n",
       "      <td>0 days 03:12:09</td>\n",
       "      <td>RSA</td>\n",
       "      <td>M</td>\n",
       "      <td>17.486</td>\n",
       "      <td>133339</td>\n",
       "      <td>35</td>\n",
       "    </tr>\n",
       "  </tbody>\n",
       "</table>\n",
       "</div>"
      ]
     },
     "execution_count": 30,
     "metadata": {},
     "output_type": "execute_result"
    }
   ],
   "execution_count": 30
  },
  {
   "metadata": {
    "ExecuteTime": {
     "end_time": "2025-01-14T14:39:06.495331Z",
     "start_time": "2025-01-14T14:39:06.471212Z"
    }
   },
   "cell_type": "code",
   "source": "df3 = df2[['year', 'race_day', 'race_name', 'race_length', 'finishers', 'athlete_id', 'athlete_country', 'athlete_gender', 'athlete_age', 'athlete_performance', 'athlete_avg_speed']]",
   "id": "2f6598eb6f428a38",
   "outputs": [],
   "execution_count": 31
  },
  {
   "metadata": {},
   "cell_type": "markdown",
   "source": "## 3. Data Analysis",
   "id": "78b777c570d7bea3"
  },
  {
   "metadata": {},
   "cell_type": "markdown",
   "source": "### 3.1. Histogram of race lengths & athlete gender",
   "id": "3882f6d737e6f7ec"
  },
  {
   "metadata": {
    "ExecuteTime": {
     "end_time": "2025-01-14T14:39:07.231046Z",
     "start_time": "2025-01-14T14:39:06.532839Z"
    }
   },
   "cell_type": "code",
   "source": "sns.histplot(df3, x='race_length', hue='athlete_gender')",
   "id": "3c6874f44b01e07c",
   "outputs": [
    {
     "data": {
      "text/plain": [
       "<Axes: xlabel='race_length', ylabel='Count'>"
      ]
     },
     "execution_count": 32,
     "metadata": {},
     "output_type": "execute_result"
    },
    {
     "data": {
      "text/plain": [
       "<Figure size 640x480 with 1 Axes>"
      ],
      "image/png": "[encoded data removed]"
     },
     "metadata": {},
     "output_type": "display_data"
    }
   ],
   "execution_count": 32
  },
  {
   "metadata": {},
   "cell_type": "markdown",
   "source": "### 3.2. Average speed of athletes",
   "id": "522087c35c56f47d"
  },
  {
   "metadata": {
    "ExecuteTime": {
     "end_time": "2025-01-14T14:39:08.223757Z",
     "start_time": "2025-01-14T14:39:07.379014Z"
    }
   },
   "cell_type": "code",
   "source": "sns.displot(df3['athlete_avg_speed'])",
   "id": "a67bb2b6241ad26b",
   "outputs": [
    {
     "data": {
      "text/plain": [
       "<seaborn.axisgrid.FacetGrid at 0x7fc59076a7b0>"
      ]
     },
     "execution_count": 33,
     "metadata": {},
     "output_type": "execute_result"
    },
    {
     "data": {
      "text/plain": [
       "<Figure size 500x500 with 1 Axes>"
      ],
      "image/png": "[encoded data removed]"
     },
     "metadata": {},
     "output_type": "display_data"
    }
   ],
   "execution_count": 33
  },
  {
   "metadata": {},
   "cell_type": "markdown",
   "source": "### 3.3. Average speed of athletes by race length & gender",
   "id": "e8cc66247496b051"
  },
  {
   "metadata": {
    "ExecuteTime": {
     "end_time": "2025-01-14T14:39:10.048247Z",
     "start_time": "2025-01-14T14:39:08.373083Z"
    }
   },
   "cell_type": "code",
   "source": "sns.violinplot(data = df3, x='race_length', y='athlete_avg_speed', hue='athlete_gender', split=True, inner='quart')",
   "id": "ea41f3d3ecad9740",
   "outputs": [
    {
     "data": {
      "text/plain": [
       "<Axes: xlabel='race_length', ylabel='athlete_avg_speed'>"
      ]
     },
     "execution_count": 34,
     "metadata": {},
     "output_type": "execute_result"
    },
    {
     "data": {
      "text/plain": [
       "<Figure size 640x480 with 1 Axes>"
      ],
      "image/png": "[encoded data removed]"
     },
     "metadata": {},
     "output_type": "display_data"
    }
   ],
   "execution_count": 34
  },
  {
   "metadata": {},
   "cell_type": "markdown",
   "source": "### 3.4. Average speed of athletes by age & gender",
   "id": "5444fb2ad4fafc8a"
  },
  {
   "metadata": {
    "ExecuteTime": {
     "end_time": "2025-01-14T14:39:32.495153Z",
     "start_time": "2025-01-14T14:39:10.124547Z"
    }
   },
   "cell_type": "code",
   "source": "sns.lmplot(data=df3, x='athlete_age', y='athlete_avg_speed', hue='athlete_gender', col='athlete_gender', line_kws={'color': 'red'})",
   "id": "575c2cdce6a3c32c",
   "outputs": [
    {
     "data": {
      "text/plain": [
       "<seaborn.axisgrid.FacetGrid at 0x7fc58ebaf9d0>"
      ]
     },
     "execution_count": 35,
     "metadata": {},
     "output_type": "execute_result"
    },
    {
     "data": {
      "text/plain": [
       "<Figure size 1000x500 with 2 Axes>"
      ],
      "image/png": "[encoded data removed]"
     },
     "metadata": {},
     "output_type": "display_data"
    }
   ],
   "execution_count": 35
  },
  {
   "metadata": {},
   "cell_type": "markdown",
   "source": "## 4. Questions",
   "id": "82d6e3737d51eed"
  },
  {
   "metadata": {},
   "cell_type": "markdown",
   "source": "### Q1: What is the difference in average speed between men and women?",
   "id": "98768e0ef164c7ea"
  },
  {
   "metadata": {
    "ExecuteTime": {
     "end_time": "2025-01-14T14:39:32.554978Z",
     "start_time": "2025-01-14T14:39:32.506885Z"
    }
   },
   "cell_type": "code",
   "source": "df3.groupby(['race_length', 'athlete_gender'])['athlete_avg_speed'].mean()",
   "id": "288efcd1287b691a",
   "outputs": [
    {
     "name": "stderr",
     "output_type": "stream",
     "text": [
      "/tmp/ipykernel_42901/701098795.py:1: FutureWarning: The default of observed=False is deprecated and will be changed to True in a future version of pandas. Pass observed=False to retain current behavior or observed=True to adopt the future default and silence this warning.\n",
      "  df3.groupby(['race_length', 'athlete_gender'])['athlete_avg_speed'].mean()\n"
     ]
    },
    {
     "data": {
      "text/plain": [
       "race_length  athlete_gender\n",
       "56km         F                  9.319022\n",
       "             M                 10.046297\n",
       "87km         F                  8.166720\n",
       "             M                  8.748934\n",
       "Name: athlete_avg_speed, dtype: float64"
      ]
     },
     "execution_count": 36,
     "metadata": {},
     "output_type": "execute_result"
    }
   ],
   "execution_count": 36
  },
  {
   "metadata": {},
   "cell_type": "markdown",
   "source": "### Q2.1: What age groups are the best across both races? (For participants with 20 or more races)",
   "id": "bb84b65c11d7079b"
  },
  {
   "metadata": {
    "ExecuteTime": {
     "end_time": "2025-01-14T14:39:32.650199Z",
     "start_time": "2025-01-14T14:39:32.626331Z"
    }
   },
   "cell_type": "code",
   "source": "df3.groupby('athlete_age')['athlete_avg_speed'].agg(['mean', 'count']).sort_values(by='mean', ascending=False).query('count > 19').head(10)",
   "id": "d476896de1dc2b44",
   "outputs": [
    {
     "data": {
      "text/plain": [
       "                 mean  count\n",
       "athlete_age                 \n",
       "29           9.741072   5637\n",
       "30           9.702570   6765\n",
       "28           9.702126   4687\n",
       "27           9.684773   3816\n",
       "31           9.682342   7693\n",
       "25           9.680214   2277\n",
       "26           9.652948   3021\n",
       "32           9.638703   8384\n",
       "34           9.591372   9954\n",
       "33           9.566194   9179"
      ],
      "text/html": [
       "<div>\n",
       "<style scoped>\n",
       "    .dataframe tbody tr th:only-of-type {\n",
       "        vertical-align: middle;\n",
       "    }\n",
       "\n",
       "    .dataframe tbody tr th {\n",
       "        vertical-align: top;\n",
       "    }\n",
       "\n",
       "    .dataframe thead th {\n",
       "        text-align: right;\n",
       "    }\n",
       "</style>\n",
       "<table border=\"1\" class=\"dataframe\">\n",
       "  <thead>\n",
       "    <tr style=\"text-align: right;\">\n",
       "      <th></th>\n",
       "      <th>mean</th>\n",
       "      <th>count</th>\n",
       "    </tr>\n",
       "    <tr>\n",
       "      <th>athlete_age</th>\n",
       "      <th></th>\n",
       "      <th></th>\n",
       "    </tr>\n",
       "  </thead>\n",
       "  <tbody>\n",
       "    <tr>\n",
       "      <th>29</th>\n",
       "      <td>9.741072</td>\n",
       "      <td>5637</td>\n",
       "    </tr>\n",
       "    <tr>\n",
       "      <th>30</th>\n",
       "      <td>9.702570</td>\n",
       "      <td>6765</td>\n",
       "    </tr>\n",
       "    <tr>\n",
       "      <th>28</th>\n",
       "      <td>9.702126</td>\n",
       "      <td>4687</td>\n",
       "    </tr>\n",
       "    <tr>\n",
       "      <th>27</th>\n",
       "      <td>9.684773</td>\n",
       "      <td>3816</td>\n",
       "    </tr>\n",
       "    <tr>\n",
       "      <th>31</th>\n",
       "      <td>9.682342</td>\n",
       "      <td>7693</td>\n",
       "    </tr>\n",
       "    <tr>\n",
       "      <th>25</th>\n",
       "      <td>9.680214</td>\n",
       "      <td>2277</td>\n",
       "    </tr>\n",
       "    <tr>\n",
       "      <th>26</th>\n",
       "      <td>9.652948</td>\n",
       "      <td>3021</td>\n",
       "    </tr>\n",
       "    <tr>\n",
       "      <th>32</th>\n",
       "      <td>9.638703</td>\n",
       "      <td>8384</td>\n",
       "    </tr>\n",
       "    <tr>\n",
       "      <th>34</th>\n",
       "      <td>9.591372</td>\n",
       "      <td>9954</td>\n",
       "    </tr>\n",
       "    <tr>\n",
       "      <th>33</th>\n",
       "      <td>9.566194</td>\n",
       "      <td>9179</td>\n",
       "    </tr>\n",
       "  </tbody>\n",
       "</table>\n",
       "</div>"
      ]
     },
     "execution_count": 37,
     "metadata": {},
     "output_type": "execute_result"
    }
   ],
   "execution_count": 37
  },
  {
   "metadata": {},
   "cell_type": "markdown",
   "source": "### Q2.2: What age groups are the worst across both races? (For participants with 10 or more races)",
   "id": "96491cbdc4869d7c"
  },
  {
   "metadata": {
    "ExecuteTime": {
     "end_time": "2025-01-14T14:39:32.714174Z",
     "start_time": "2025-01-14T14:39:32.700417Z"
    }
   },
   "cell_type": "code",
   "source": "df3.groupby('athlete_age')['athlete_avg_speed'].agg(['mean', 'count']).sort_values(by='mean', ascending=True).query('count > 9').head(10)",
   "id": "414057fd3b32c294",
   "outputs": [
    {
     "data": {
      "text/plain": [
       "                 mean  count\n",
       "athlete_age                 \n",
       "70           8.344179    145\n",
       "73           8.386556     45\n",
       "74           8.448923     26\n",
       "69           8.450657    178\n",
       "71           8.467624    109\n",
       "67           8.522104    355\n",
       "75           8.527217     23\n",
       "72           8.531159     69\n",
       "68           8.557080    238\n",
       "18           8.601176     34"
      ],
      "text/html": [
       "<div>\n",
       "<style scoped>\n",
       "    .dataframe tbody tr th:only-of-type {\n",
       "        vertical-align: middle;\n",
       "    }\n",
       "\n",
       "    .dataframe tbody tr th {\n",
       "        vertical-align: top;\n",
       "    }\n",
       "\n",
       "    .dataframe thead th {\n",
       "        text-align: right;\n",
       "    }\n",
       "</style>\n",
       "<table border=\"1\" class=\"dataframe\">\n",
       "  <thead>\n",
       "    <tr style=\"text-align: right;\">\n",
       "      <th></th>\n",
       "      <th>mean</th>\n",
       "      <th>count</th>\n",
       "    </tr>\n",
       "    <tr>\n",
       "      <th>athlete_age</th>\n",
       "      <th></th>\n",
       "      <th></th>\n",
       "    </tr>\n",
       "  </thead>\n",
       "  <tbody>\n",
       "    <tr>\n",
       "      <th>70</th>\n",
       "      <td>8.344179</td>\n",
       "      <td>145</td>\n",
       "    </tr>\n",
       "    <tr>\n",
       "      <th>73</th>\n",
       "      <td>8.386556</td>\n",
       "      <td>45</td>\n",
       "    </tr>\n",
       "    <tr>\n",
       "      <th>74</th>\n",
       "      <td>8.448923</td>\n",
       "      <td>26</td>\n",
       "    </tr>\n",
       "    <tr>\n",
       "      <th>69</th>\n",
       "      <td>8.450657</td>\n",
       "      <td>178</td>\n",
       "    </tr>\n",
       "    <tr>\n",
       "      <th>71</th>\n",
       "      <td>8.467624</td>\n",
       "      <td>109</td>\n",
       "    </tr>\n",
       "    <tr>\n",
       "      <th>67</th>\n",
       "      <td>8.522104</td>\n",
       "      <td>355</td>\n",
       "    </tr>\n",
       "    <tr>\n",
       "      <th>75</th>\n",
       "      <td>8.527217</td>\n",
       "      <td>23</td>\n",
       "    </tr>\n",
       "    <tr>\n",
       "      <th>72</th>\n",
       "      <td>8.531159</td>\n",
       "      <td>69</td>\n",
       "    </tr>\n",
       "    <tr>\n",
       "      <th>68</th>\n",
       "      <td>8.557080</td>\n",
       "      <td>238</td>\n",
       "    </tr>\n",
       "    <tr>\n",
       "      <th>18</th>\n",
       "      <td>8.601176</td>\n",
       "      <td>34</td>\n",
       "    </tr>\n",
       "  </tbody>\n",
       "</table>\n",
       "</div>"
      ]
     },
     "execution_count": 38,
     "metadata": {},
     "output_type": "execute_result"
    }
   ],
   "execution_count": 38
  },
  {
   "metadata": {},
   "cell_type": "markdown",
   "source": "### Q3: Which are the best seasons to race in?",
   "id": "ec34a9483fb87e8"
  },
  {
   "metadata": {
    "ExecuteTime": {
     "end_time": "2025-01-14T14:39:33.437015Z",
     "start_time": "2025-01-14T14:39:32.910124Z"
    }
   },
   "cell_type": "code",
   "source": [
    "df3 = df3.copy()\n",
    "df3.loc[:, 'race_month'] = df3['race_day'].str.split('.').str.get(1).astype(int)"
   ],
   "id": "bcc9f534d9c0df37",
   "outputs": [],
   "execution_count": 39
  },
  {
   "metadata": {
    "ExecuteTime": {
     "end_time": "2025-01-14T14:39:33.614579Z",
     "start_time": "2025-01-14T14:39:33.546651Z"
    }
   },
   "cell_type": "code",
   "source": "df3.loc[:, 'race_season'] = df3['race_month'].apply(lambda x: 'Summer' if x > 11 else 'Spring' if x > 8 else 'Winter' if x > 5 else 'Autumn' if x > 2 else 'Summer')",
   "id": "bfea88aa032cadca",
   "outputs": [],
   "execution_count": 40
  },
  {
   "metadata": {
    "ExecuteTime": {
     "end_time": "2025-01-14T14:39:33.699143Z",
     "start_time": "2025-01-14T14:39:33.688292Z"
    }
   },
   "cell_type": "code",
   "source": "df3.head()",
   "id": "6a540aa7334e9972",
   "outputs": [
    {
     "data": {
      "text/plain": [
       "   year    race_day             race_name race_length  finishers  athlete_id  \\\n",
       "0  2018  31.03.2018  Two Oceans Marathon         56km       9200      133335   \n",
       "1  2018  31.03.2018  Two Oceans Marathon         56km       9200      133336   \n",
       "2  2018  31.03.2018  Two Oceans Marathon         56km       9200      133337   \n",
       "3  2018  31.03.2018  Two Oceans Marathon         56km       9200      133338   \n",
       "4  2018  31.03.2018  Two Oceans Marathon         56km       9200      133339   \n",
       "\n",
       "  athlete_country athlete_gender  athlete_age athlete_performance  \\\n",
       "0             KEN              M           25     0 days 03:09:22   \n",
       "1             LES              M           36     0 days 03:10:32   \n",
       "2             RSA              M           37     0 days 03:11:13   \n",
       "3             KEN              M           38     0 days 03:11:58   \n",
       "4             RSA              M           35     0 days 03:12:09   \n",
       "\n",
       "   athlete_avg_speed  race_month race_season  \n",
       "0             17.743           3      Autumn  \n",
       "1             17.635           3      Autumn  \n",
       "2             17.572           3      Autumn  \n",
       "3             17.503           3      Autumn  \n",
       "4             17.486           3      Autumn  "
      ],
      "text/html": [
       "<div>\n",
       "<style scoped>\n",
       "    .dataframe tbody tr th:only-of-type {\n",
       "        vertical-align: middle;\n",
       "    }\n",
       "\n",
       "    .dataframe tbody tr th {\n",
       "        vertical-align: top;\n",
       "    }\n",
       "\n",
       "    .dataframe thead th {\n",
       "        text-align: right;\n",
       "    }\n",
       "</style>\n",
       "<table border=\"1\" class=\"dataframe\">\n",
       "  <thead>\n",
       "    <tr style=\"text-align: right;\">\n",
       "      <th></th>\n",
       "      <th>year</th>\n",
       "      <th>race_day</th>\n",
       "      <th>race_name</th>\n",
       "      <th>race_length</th>\n",
       "      <th>finishers</th>\n",
       "      <th>athlete_id</th>\n",
       "      <th>athlete_country</th>\n",
       "      <th>athlete_gender</th>\n",
       "      <th>athlete_age</th>\n",
       "      <th>athlete_performance</th>\n",
       "      <th>athlete_avg_speed</th>\n",
       "      <th>race_month</th>\n",
       "      <th>race_season</th>\n",
       "    </tr>\n",
       "  </thead>\n",
       "  <tbody>\n",
       "    <tr>\n",
       "      <th>0</th>\n",
       "      <td>2018</td>\n",
       "      <td>31.03.2018</td>\n",
       "      <td>Two Oceans Marathon</td>\n",
       "      <td>56km</td>\n",
       "      <td>9200</td>\n",
       "      <td>133335</td>\n",
       "      <td>KEN</td>\n",
       "      <td>M</td>\n",
       "      <td>25</td>\n",
       "      <td>0 days 03:09:22</td>\n",
       "      <td>17.743</td>\n",
       "      <td>3</td>\n",
       "      <td>Autumn</td>\n",
       "    </tr>\n",
       "    <tr>\n",
       "      <th>1</th>\n",
       "      <td>2018</td>\n",
       "      <td>31.03.2018</td>\n",
       "      <td>Two Oceans Marathon</td>\n",
       "      <td>56km</td>\n",
       "      <td>9200</td>\n",
       "      <td>133336</td>\n",
       "      <td>LES</td>\n",
       "      <td>M</td>\n",
       "      <td>36</td>\n",
       "      <td>0 days 03:10:32</td>\n",
       "      <td>17.635</td>\n",
       "      <td>3</td>\n",
       "      <td>Autumn</td>\n",
       "    </tr>\n",
       "    <tr>\n",
       "      <th>2</th>\n",
       "      <td>2018</td>\n",
       "      <td>31.03.2018</td>\n",
       "      <td>Two Oceans Marathon</td>\n",
       "      <td>56km</td>\n",
       "      <td>9200</td>\n",
       "      <td>133337</td>\n",
       "      <td>RSA</td>\n",
       "      <td>M</td>\n",
       "      <td>37</td>\n",
       "      <td>0 days 03:11:13</td>\n",
       "      <td>17.572</td>\n",
       "      <td>3</td>\n",
       "      <td>Autumn</td>\n",
       "    </tr>\n",
       "    <tr>\n",
       "      <th>3</th>\n",
       "      <td>2018</td>\n",
       "      <td>31.03.2018</td>\n",
       "      <td>Two Oceans Marathon</td>\n",
       "      <td>56km</td>\n",
       "      <td>9200</td>\n",
       "      <td>133338</td>\n",
       "      <td>KEN</td>\n",
       "      <td>M</td>\n",
       "      <td>38</td>\n",
       "      <td>0 days 03:11:58</td>\n",
       "      <td>17.503</td>\n",
       "      <td>3</td>\n",
       "      <td>Autumn</td>\n",
       "    </tr>\n",
       "    <tr>\n",
       "      <th>4</th>\n",
       "      <td>2018</td>\n",
       "      <td>31.03.2018</td>\n",
       "      <td>Two Oceans Marathon</td>\n",
       "      <td>56km</td>\n",
       "      <td>9200</td>\n",
       "      <td>133339</td>\n",
       "      <td>RSA</td>\n",
       "      <td>M</td>\n",
       "      <td>35</td>\n",
       "      <td>0 days 03:12:09</td>\n",
       "      <td>17.486</td>\n",
       "      <td>3</td>\n",
       "      <td>Autumn</td>\n",
       "    </tr>\n",
       "  </tbody>\n",
       "</table>\n",
       "</div>"
      ]
     },
     "execution_count": 41,
     "metadata": {},
     "output_type": "execute_result"
    }
   ],
   "execution_count": 41
  },
  {
   "metadata": {
    "ExecuteTime": {
     "end_time": "2025-01-14T14:39:33.825966Z",
     "start_time": "2025-01-14T14:39:33.786137Z"
    }
   },
   "cell_type": "code",
   "source": "df3.groupby('race_season')['athlete_avg_speed'].agg(['mean', 'count']).sort_values(by='mean', ascending=False)",
   "id": "1f7fa606423bf1eb",
   "outputs": [
    {
     "data": {
      "text/plain": [
       "                 mean   count\n",
       "race_season                  \n",
       "Autumn       9.690173  178866\n",
       "Winter       8.675466   98127"
      ],
      "text/html": [
       "<div>\n",
       "<style scoped>\n",
       "    .dataframe tbody tr th:only-of-type {\n",
       "        vertical-align: middle;\n",
       "    }\n",
       "\n",
       "    .dataframe tbody tr th {\n",
       "        vertical-align: top;\n",
       "    }\n",
       "\n",
       "    .dataframe thead th {\n",
       "        text-align: right;\n",
       "    }\n",
       "</style>\n",
       "<table border=\"1\" class=\"dataframe\">\n",
       "  <thead>\n",
       "    <tr style=\"text-align: right;\">\n",
       "      <th></th>\n",
       "      <th>mean</th>\n",
       "      <th>count</th>\n",
       "    </tr>\n",
       "    <tr>\n",
       "      <th>race_season</th>\n",
       "      <th></th>\n",
       "      <th></th>\n",
       "    </tr>\n",
       "  </thead>\n",
       "  <tbody>\n",
       "    <tr>\n",
       "      <th>Autumn</th>\n",
       "      <td>9.690173</td>\n",
       "      <td>178866</td>\n",
       "    </tr>\n",
       "    <tr>\n",
       "      <th>Winter</th>\n",
       "      <td>8.675466</td>\n",
       "      <td>98127</td>\n",
       "    </tr>\n",
       "  </tbody>\n",
       "</table>\n",
       "</div>"
      ]
     },
     "execution_count": 42,
     "metadata": {},
     "output_type": "execute_result"
    }
   ],
   "execution_count": 42
  },
  {
   "metadata": {
    "ExecuteTime": {
     "end_time": "2025-01-14T14:39:33.996077Z",
     "start_time": "2025-01-14T14:39:33.940224Z"
    }
   },
   "cell_type": "code",
   "source": "df3.query('race_length == \"87km\"').groupby('race_season')['athlete_avg_speed'].agg(['mean', 'count']).sort_values(by='mean', ascending=False)",
   "id": "5760a14fbf63afa5",
   "outputs": [
    {
     "data": {
      "text/plain": [
       "                 mean  count\n",
       "race_season                 \n",
       "Winter       8.675466  98127\n",
       "Autumn       8.527878  24085"
      ],
      "text/html": [
       "<div>\n",
       "<style scoped>\n",
       "    .dataframe tbody tr th:only-of-type {\n",
       "        vertical-align: middle;\n",
       "    }\n",
       "\n",
       "    .dataframe tbody tr th {\n",
       "        vertical-align: top;\n",
       "    }\n",
       "\n",
       "    .dataframe thead th {\n",
       "        text-align: right;\n",
       "    }\n",
       "</style>\n",
       "<table border=\"1\" class=\"dataframe\">\n",
       "  <thead>\n",
       "    <tr style=\"text-align: right;\">\n",
       "      <th></th>\n",
       "      <th>mean</th>\n",
       "      <th>count</th>\n",
       "    </tr>\n",
       "    <tr>\n",
       "      <th>race_season</th>\n",
       "      <th></th>\n",
       "      <th></th>\n",
       "    </tr>\n",
       "  </thead>\n",
       "  <tbody>\n",
       "    <tr>\n",
       "      <th>Winter</th>\n",
       "      <td>8.675466</td>\n",
       "      <td>98127</td>\n",
       "    </tr>\n",
       "    <tr>\n",
       "      <th>Autumn</th>\n",
       "      <td>8.527878</td>\n",
       "      <td>24085</td>\n",
       "    </tr>\n",
       "  </tbody>\n",
       "</table>\n",
       "</div>"
      ]
     },
     "execution_count": 43,
     "metadata": {},
     "output_type": "execute_result"
    }
   ],
   "execution_count": 43
  }
 ],
 "metadata": {
  "kernelspec": {
   "display_name": "Python 3",
   "language": "python",
   "name": "python3"
  },
  "language_info": {
   "codemirror_mode": {
    "name": "ipython",
    "version": 2
   },
   "file_extension": ".py",
   "mimetype": "text/x-python",
   "name": "python",
   "nbconvert_exporter": "python",
   "pygments_lexer": "ipython2",
   "version": "2.7.6"
  }
 },
 "nbformat": 4,
 "nbformat_minor": 5
}
